{
 "cells": [
  {
   "cell_type": "code",
   "execution_count": 2,
   "metadata": {},
   "outputs": [],
   "source": [
    "import re\n",
    "from sklearn.feature_extraction.text import TfidfVectorizer\n",
    "from sklearn import model_selection, naive_bayes, svm\n",
    "from sklearn.metrics import accuracy_score\n",
    "import numpy as np\n",
    "import pandas as pd\n",
    "import os,glob\n",
    "from nltk.corpus import stopwords\n",
    "from keras.preprocessing.text import Tokenizer\n",
    "from sklearn.model_selection import train_test_split\n",
    "from keras.preprocessing.sequence import pad_sequences\n",
    "from keras.layers import LSTM, Activation, Dense, Dropout, Input, Embedding,concatenate, Bidirectional,LeakyReLU, SpatialDropout1D\n",
    "from keras import Sequential\n",
    "import tensorflow as tf\n",
    "from keras.callbacks import EarlyStopping\n",
    "from sklearn.preprocessing import LabelEncoder\n",
    "#!pip install bs4\n",
    "from bs4 import BeautifulSoup"
   ]
  },
  {
   "cell_type": "code",
   "execution_count": 3,
   "metadata": {},
   "outputs": [],
   "source": [
    "REPLACE_BY_SPACE_RE = re.compile('[/(){}\\[\\]\\|@,;]')\n",
    "BAD_SYMBOLS_RE = re.compile('[^0-9a-z #+_]')\n",
    "STOPWORDS = set(stopwords.words('english'))\n",
    "#le=LabelEncoder()"
   ]
  },
  {
   "cell_type": "code",
   "execution_count": 4,
   "metadata": {},
   "outputs": [],
   "source": [
    "'''\n",
    "Function to clean up the HTML file to get only the content and not the structure\n",
    "Uses beautifulsoup - common library for HTML parsing to remove all javascript and css content\n",
    "Then the HTML tags are removed followed with removing of junk characters\n",
    "'''\n",
    "def cleanhtml(raw_html):\n",
    "    soup = BeautifulSoup(raw_html, \"html.parser\")\n",
    "    for script in soup([\"script\", \"style\"]):\n",
    "        script.extract()\n",
    "    text = soup.get_text()\n",
    "    lines = (line.strip() for line in text.splitlines())\n",
    "    chunks = (phrase.strip() for line in lines for phrase in line.split(\"  \"))\n",
    "    text = '\\n'.join(chunk for chunk in chunks if chunk)\n",
    "    text = BAD_SYMBOLS_RE.sub('', text)\n",
    "    '''\n",
    "    text = text.lower() # lowercase text\n",
    "    text = REPLACE_BY_SPACE_RE.sub(' ', text) \n",
    "    text = BAD_SYMBOLS_RE.sub('', text) \n",
    "    text = text.replace('x', '')\n",
    "    text = ' '.join(word for word in text.split() if word not in STOPWORDS) \n",
    "    '''\n",
    "    return text"
   ]
  },
  {
   "cell_type": "code",
   "execution_count": 15,
   "metadata": {},
   "outputs": [],
   "source": [
    "'''\n",
    "Load data from files for the top 10 classes from the AZSecure Dataset and Phishtank Dataset\n",
    "'''\n",
    "os.chdir(\"/home/arulthileeban/PKI/HTML_Dataset/pages_r/\")\n",
    "\n",
    "files=glob.glob(\"*\")\n",
    "X,Y=[],[]\n",
    "classes=['Adobe','PayPal','Binance','Orange','MyEtherWallet','Facebook','Yahoo','Microsoft']\n",
    "for i in files:\n",
    "    try:\n",
    "        class_val=''.join([j for j in i if j.isalpha()])\n",
    "        if class_val in classes:\n",
    "            X.append(open(i).read())\n",
    "            Y.append(class_val)\n",
    "    except:\n",
    "        pass\n",
    "    \n",
    "os.chdir(\"/home/arulthileeban/PKI/HTML_Dataset/pt/pages_r/\")\n",
    "\n",
    "files=glob.glob(\"*\")\n",
    "classes=['Adobe','PayPal','Binance','Orange','MyEtherWallet','Facebook','Yahoo','Microsoft']\n",
    "for i in files:\n",
    "    try:\n",
    "        class_val=''.join([j for j in i if j.isalpha()])\n",
    "        if class_val in classes:\n",
    "            X.append(open(i).read())\n",
    "            Y.append(class_val)\n",
    "    except:\n",
    "        pass\n",
    "label_tokenizer = Tokenizer()\n",
    "label_tokenizer.fit_on_texts(classes)"
   ]
  },
  {
   "cell_type": "code",
   "execution_count": 16,
   "metadata": {},
   "outputs": [],
   "source": [
    "X = [cleanhtml(i) for i in X]\n",
    "X = np.array(X)\n",
    "Y = np.array(label_tokenizer.texts_to_sequences(Y))"
   ]
  },
  {
   "cell_type": "code",
   "execution_count": 17,
   "metadata": {},
   "outputs": [],
   "source": [
    "#Setting params and tokenizing the content\n",
    "MAX_NB_WORDS = 50000\n",
    "MAX_SEQUENCE_LENGTH = 100\n",
    "EMBEDDING_DIM = 100\n",
    "epochs = 30\n",
    "batch_size = 64\n",
    "tokenizer = Tokenizer(num_words=MAX_NB_WORDS, filters='!\"#$%&()*+,-./:;<=>?@[\\]^_`{|}~')\n",
    "tokenizer.fit_on_texts(X)\n",
    "word_index = tokenizer.word_index"
   ]
  },
  {
   "cell_type": "code",
   "execution_count": 18,
   "metadata": {},
   "outputs": [],
   "source": [
    "X = tokenizer.texts_to_sequences(X)\n",
    "X = pad_sequences(X, maxlen=MAX_SEQUENCE_LENGTH)"
   ]
  },
  {
   "cell_type": "code",
   "execution_count": 19,
   "metadata": {},
   "outputs": [],
   "source": [
    "X_train, X_test, Y_train, Y_test = train_test_split(X,Y, test_size = 0.20, random_state = 42)"
   ]
  },
  {
   "cell_type": "code",
   "execution_count": 20,
   "metadata": {},
   "outputs": [
    {
     "name": "stdout",
     "output_type": "stream",
     "text": [
      "Model: \"sequential_1\"\n",
      "_________________________________________________________________\n",
      "Layer (type)                 Output Shape              Param #   \n",
      "=================================================================\n",
      "embedding_1 (Embedding)      (None, 100, 100)          5000000   \n",
      "_________________________________________________________________\n",
      "spatial_dropout1d_1 (Spatial (None, 100, 100)          0         \n",
      "_________________________________________________________________\n",
      "lstm_1 (LSTM)                (None, 100)               80400     \n",
      "_________________________________________________________________\n",
      "dense_1 (Dense)              (None, 9)                 909       \n",
      "=================================================================\n",
      "Total params: 5,081,309\n",
      "Trainable params: 5,081,309\n",
      "Non-trainable params: 0\n",
      "_________________________________________________________________\n"
     ]
    }
   ],
   "source": [
    "#Model \n",
    "model = Sequential()\n",
    "model.add(Embedding(MAX_NB_WORDS, EMBEDDING_DIM, input_length=X.shape[1]))\n",
    "model.add(SpatialDropout1D(0.2))\n",
    "model.add(LSTM(EMBEDDING_DIM, dropout=0.2, recurrent_dropout=0.2))\n",
    "model.add(Dense(len(classes)+1, activation='softmax'))\n",
    "model.compile(loss='sparse_categorical_crossentropy', optimizer='adam', metrics=['accuracy'])\n",
    "model.summary()"
   ]
  },
  {
   "cell_type": "code",
   "execution_count": 21,
   "metadata": {},
   "outputs": [
    {
     "name": "stdout",
     "output_type": "stream",
     "text": [
      "Epoch 1/30\n",
      "19/19 [==============================] - 1s 63ms/step - loss: 1.9808 - accuracy: 0.3281\n",
      "Epoch 2/30\n",
      "19/19 [==============================] - 1s 63ms/step - loss: 1.6431 - accuracy: 0.3873 0s - loss: 1.689\n",
      "Epoch 3/30\n",
      "19/19 [==============================] - 1s 62ms/step - loss: 1.3831 - accuracy: 0.5197\n",
      "Epoch 4/30\n",
      "19/19 [==============================] - 1s 63ms/step - loss: 1.0984 - accuracy: 0.6250\n",
      "Epoch 5/30\n",
      "19/19 [==============================] - 1s 63ms/step - loss: 0.8818 - accuracy: 0.6908\n",
      "Epoch 6/30\n",
      "19/19 [==============================] - 1s 63ms/step - loss: 0.7370 - accuracy: 0.7706\n",
      "Epoch 7/30\n",
      "19/19 [==============================] - 1s 62ms/step - loss: 0.6501 - accuracy: 0.7821\n",
      "Epoch 8/30\n",
      "19/19 [==============================] - 1s 64ms/step - loss: 0.5607 - accuracy: 0.8199\n",
      "Epoch 9/30\n",
      "19/19 [==============================] - 1s 62ms/step - loss: 0.5092 - accuracy: 0.8215\n",
      "Epoch 10/30\n",
      "19/19 [==============================] - 1s 62ms/step - loss: 0.4777 - accuracy: 0.8372\n",
      "Epoch 11/30\n",
      "19/19 [==============================] - 1s 62ms/step - loss: 0.4554 - accuracy: 0.8421\n",
      "Epoch 12/30\n",
      "19/19 [==============================] - 1s 64ms/step - loss: 0.4206 - accuracy: 0.8512\n",
      "Epoch 13/30\n",
      "19/19 [==============================] - 1s 62ms/step - loss: 0.3967 - accuracy: 0.8725\n",
      "Epoch 14/30\n",
      "19/19 [==============================] - 1s 63ms/step - loss: 0.3969 - accuracy: 0.8627\n",
      "Epoch 15/30\n",
      "19/19 [==============================] - 1s 63ms/step - loss: 0.3772 - accuracy: 0.8651\n",
      "Epoch 16/30\n",
      "19/19 [==============================] - 1s 63ms/step - loss: 0.3563 - accuracy: 0.8783\n",
      "Epoch 17/30\n",
      "19/19 [==============================] - 1s 63ms/step - loss: 0.3598 - accuracy: 0.8660\n",
      "Epoch 18/30\n",
      "19/19 [==============================] - 1s 63ms/step - loss: 0.3433 - accuracy: 0.8791\n",
      "Epoch 19/30\n",
      "19/19 [==============================] - 1s 63ms/step - loss: 0.3574 - accuracy: 0.8766\n",
      "Epoch 20/30\n",
      "19/19 [==============================] - 1s 63ms/step - loss: 0.3494 - accuracy: 0.8758\n",
      "Epoch 21/30\n",
      "19/19 [==============================] - 1s 62ms/step - loss: 0.3331 - accuracy: 0.8766\n"
     ]
    }
   ],
   "source": [
    "history = model.fit(X_train, Y_train, epochs=epochs, batch_size=batch_size,callbacks=[EarlyStopping(monitor='accuracy', patience=3, min_delta=0.0001)])"
   ]
  },
  {
   "cell_type": "code",
   "execution_count": 22,
   "metadata": {},
   "outputs": [
    {
     "name": "stdout",
     "output_type": "stream",
     "text": [
      "10/10 [==============================] - 0s 9ms/step - loss: 0.8323 - accuracy: 0.7705\n",
      "Test set\n",
      "  Loss: 0.832\n",
      "  Accuracy: 0.770\n"
     ]
    }
   ],
   "source": [
    "accr = model.evaluate(X_test,Y_test)\n",
    "print('Test set\\n  Loss: {:0.3f}\\n  Accuracy: {:0.3f}'.format(accr[0],accr[1]))"
   ]
  },
  {
   "cell_type": "code",
   "execution_count": 13,
   "metadata": {},
   "outputs": [
    {
     "data": {
      "image/png": "[encoded data removed]",
      "text/plain": [
       "<IPython.core.display.Image object>"
      ]
     },
     "execution_count": 13,
     "metadata": {},
     "output_type": "execute_result"
    }
   ],
   "source": [
    "from keras.utils import plot_model\n",
    "plot_model(model, to_file='html_model.png')"
   ]
  },
  {
   "cell_type": "code",
   "execution_count": 34,
   "metadata": {},
   "outputs": [
    {
     "name": "stdout",
     "output_type": "stream",
     "text": [
      "Accuracy: 0.770492\n",
      "Precision: 0.805853\n",
      "Recall: 0.727345\n"
     ]
    }
   ],
   "source": [
    "from sklearn.metrics import accuracy_score\n",
    "from sklearn.metrics import precision_score\n",
    "from sklearn.metrics import recall_score\n",
    "from sklearn.metrics import f1_score\n",
    "from sklearn.metrics import cohen_kappa_score\n",
    "from sklearn.metrics import roc_auc_score\n",
    "from sklearn.metrics import confusion_matrix\n",
    "yhat_probs = model.predict(X_test, verbose=0)\n",
    "yhat_classes=yhat_probs.argmax(axis=-1)\n",
    "yhat_probs = yhat_probs[:, 0]\n",
    "accuracy = accuracy_score(Y_test, yhat_classes)\n",
    "print('Accuracy: %f' % accuracy)\n",
    "precision = precision_score(Y_test, yhat_classes,average='macro')\n",
    "print('Precision: %f' % precision)\n",
    "recall = recall_score(Y_test, yhat_classes,average='macro')\n",
    "print('Recall: %f' % recall)"
   ]
  },
  {
   "cell_type": "code",
   "execution_count": null,
   "metadata": {},
   "outputs": [],
   "source": []
  }
 ],
 "metadata": {
  "kernelspec": {
   "display_name": "Python 3",
   "language": "python",
   "name": "python3"
  }
 },
 "nbformat": 4,
 "nbformat_minor": 4
}
